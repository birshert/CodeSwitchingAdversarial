{
 "cells": [
  {
   "cell_type": "code",
   "execution_count": 1,
   "id": "dca39ddf",
   "metadata": {
    "ExecuteTime": {
     "end_time": "2021-05-21T12:10:55.942903Z",
     "start_time": "2021-05-21T12:10:55.143582Z"
    }
   },
   "outputs": [],
   "source": [
    "import subprocess\n",
    "\n",
    "from tqdm import tqdm\n",
    "\n",
    "from utils import load_config\n",
    "from utils import save_config\n",
    "\n",
    "\n",
    "config = load_config()\n",
    "\n",
    "config_path = 'config_m-bert.yaml'"
   ]
  },
  {
   "cell_type": "code",
   "execution_count": 6,
   "id": "f7a435cf",
   "metadata": {
    "ExecuteTime": {
     "end_time": "2021-05-16T16:33:12.337042Z",
     "start_time": "2021-05-16T16:33:12.334330Z"
    }
   },
   "outputs": [],
   "source": [
    "save_config(config, config_path)"
   ]
  },
  {
   "cell_type": "code",
   "execution_count": 7,
   "id": "ccd28c89",
   "metadata": {
    "ExecuteTime": {
     "end_time": "2021-05-16T16:33:13.143791Z",
     "start_time": "2021-05-16T16:33:13.141904Z"
    }
   },
   "outputs": [],
   "source": [
    "args = [\n",
    "    ('mlm', 'adversarial', 10, 'mlm m-bert', False, False),\n",
    "    ('joint', 'atis', 10, 'm-bert', False, False),\n",
    "    ('joint', 'atis', 10, 'm-bert', False, True),\n",
    "    ('joint', 'atis', 10, 'm-bert', True, False),\n",
    "    ('joint', 'atis', 10, 'm-bert', True, True)\n",
    "]"
   ]
  },
  {
   "cell_type": "code",
   "execution_count": 4,
   "id": "0952f5c6",
   "metadata": {},
   "outputs": [
    {
     "name": "stderr",
     "output_type": "stream",
     "text": [
      "100%|██████████| 4/4 [17:56<00:00, 269.05s/it]\n"
     ]
    }
   ],
   "source": [
    "for arg in tqdm(args):\n",
    "    config = load_config(config_path)\n",
    "\n",
    "    config['dataset'] = arg[1]\n",
    "    config['num_epoches'] = arg[2]\n",
    "    config['model_name'] = arg[3]\n",
    "    config['load_adv_pretrained'] = arg[4]\n",
    "    config['only_english'] = arg[5]\n",
    "\n",
    "    save_config(config, config_path)\n",
    "\n",
    "    subprocess.run(['python3', f'train_{arg[0]}_model.py', config_path])"
   ]
  },
  {
   "cell_type": "code",
   "execution_count": 8,
   "id": "829bd683",
   "metadata": {
    "ExecuteTime": {
     "end_time": "2021-05-16T16:43:00.793234Z",
     "start_time": "2021-05-16T16:33:15.843197Z"
    }
   },
   "outputs": [
    {
     "name": "stderr",
     "output_type": "stream",
     "text": [
      "100%|██████████| 4/4 [09:44<00:00, 146.24s/it]\n"
     ]
    }
   ],
   "source": [
    "for arg in tqdm(args):\n",
    "    config = load_config(config_path)\n",
    "\n",
    "    config['model_name'] = arg[3]\n",
    "    config['load_adv_pretrained'] = arg[4]\n",
    "    config['only_english'] = arg[5]\n",
    "\n",
    "    save_config(config, config_path)\n",
    "\n",
    "    subprocess.run(['python3', f'attack.py', config_path])"
   ]
  },
  {
   "cell_type": "code",
   "execution_count": null,
   "id": "promising-scholar",
   "metadata": {},
   "outputs": [],
   "source": []
  }
 ],
 "metadata": {
  "kernelspec": {
   "display_name": "Python 3",
   "language": "python",
   "name": "python3"
  },
  "language_info": {
   "codemirror_mode": {
    "name": "ipython",
    "version": 3
   },
   "file_extension": ".py",
   "mimetype": "text/x-python",
   "name": "python",
   "nbconvert_exporter": "python",
   "pygments_lexer": "ipython3",
   "version": "3.9.4"
  }
 },
 "nbformat": 4,
 "nbformat_minor": 5
}