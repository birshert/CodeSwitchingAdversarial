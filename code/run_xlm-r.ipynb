{
 "cells": [
  {
   "cell_type": "code",
   "execution_count": 1,
   "id": "1669a038",
   "metadata": {
    "ExecuteTime": {
     "end_time": "2021-05-16T16:22:12.883082Z",
     "start_time": "2021-05-16T16:22:12.111573Z"
    }
   },
   "outputs": [],
   "source": [
    "import subprocess\n",
    "\n",
    "from tqdm import tqdm\n",
    "\n",
    "from utils import load_config\n",
    "from utils import save_config\n",
    "\n",
    "\n",
    "config = load_config()\n",
    "\n",
    "config_path = 'config_xlm-r.yaml'"
   ]
  },
  {
   "cell_type": "code",
   "execution_count": 2,
   "id": "6988fe4b",
   "metadata": {
    "ExecuteTime": {
     "end_time": "2021-05-16T16:22:12.886742Z",
     "start_time": "2021-05-16T16:22:12.884066Z"
    }
   },
   "outputs": [],
   "source": [
    "save_config(config, config_path)"
   ]
  },
  {
   "cell_type": "code",
   "execution_count": 3,
   "id": "b8b8f5eb",
   "metadata": {
    "ExecuteTime": {
     "end_time": "2021-05-16T16:22:15.675100Z",
     "start_time": "2021-05-16T16:22:15.673037Z"
    }
   },
   "outputs": [],
   "source": [
    "args = [\n",
    "    ('mlm', 'adversarial', 10, 'mlm xlm-r', False, False),\n",
    "    ('joint', 'atis', 10, 'xlm-r', False, False),\n",
    "    ('joint', 'atis', 10, 'xlm-r', False, True),\n",
    "    ('joint', 'atis', 10, 'xlm-r', True, False),\n",
    "    ('joint', 'atis', 10, 'xlm-r', True, True)\n",
    "]"
   ]
  },
  {
   "cell_type": "code",
   "execution_count": null,
   "id": "45e6c147",
   "metadata": {
    "ExecuteTime": {
     "end_time": "2021-05-16T16:22:05.534966Z",
     "start_time": "2021-05-16T16:22:03.741900Z"
    }
   },
   "outputs": [],
   "source": [
    "for arg in tqdm(args):\n",
    "    config = load_config(config_path)\n",
    "\n",
    "    config['dataset'] = arg[1]\n",
    "    config['num_epoches'] = arg[2]\n",
    "    config['model_name'] = arg[3]\n",
    "    config['load_adv_pretrained'] = arg[4]\n",
    "    config['only_english'] = arg[5]\n",
    "\n",
    "    save_config(config, config_path)\n",
    "\n",
    "    subprocess.run(['python3', f'train_{arg[0]}_model.py', config_path])"
   ]
  },
  {
   "cell_type": "code",
   "execution_count": 4,
   "id": "a496bcb0",
   "metadata": {
    "ExecuteTime": {
     "end_time": "2021-05-16T16:32:29.344262Z",
     "start_time": "2021-05-16T16:22:22.199888Z"
    }
   },
   "outputs": [
    {
     "name": "stderr",
     "output_type": "stream",
     "text": [
      "100%|██████████| 4/4 [10:07<00:00, 151.79s/it]\n"
     ]
    }
   ],
   "source": [
    "for arg in tqdm(args[1:]):\n",
    "    config = load_config(config_path)\n",
    "\n",
    "    config['model_name'] = arg[3]\n",
    "    config['load_adv_pretrained'] = arg[4]\n",
    "    config['only_english'] = arg[5]\n",
    "\n",
    "    save_config(config, config_path)\n",
    "\n",
    "    subprocess.run(['python3', f'attack.py', config_path])\n"
   ]
  }
 ],
 "metadata": {
  "kernelspec": {
   "display_name": "Python 3",
   "language": "python",
   "name": "python3"
  },
  "language_info": {
   "codemirror_mode": {
    "name": "ipython",
    "version": 3
   },
   "file_extension": ".py",
   "mimetype": "text/x-python",
   "name": "python",
   "nbconvert_exporter": "python",
   "pygments_lexer": "ipython3",
   "version": "3.9.4"
  }
 },
 "nbformat": 4,
 "nbformat_minor": 5
}