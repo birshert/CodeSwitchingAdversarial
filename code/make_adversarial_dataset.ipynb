{
 "cells": [
  {
   "cell_type": "code",
   "execution_count": null,
   "id": "brave-clark",
   "metadata": {},
   "outputs": [],
   "source": [
    "import os\n",
    "\n",
    "import pandas as pd\n",
    "\n",
    "from adversarial import RandomAdversarialAlignments\n",
    "from utils import load_config\n",
    "\n",
    "\n",
    "config = load_config()\n",
    "\n",
    "languages = ['en']"
   ]
  },
  {
   "cell_type": "code",
   "execution_count": null,
   "id": "excellent-kidney",
   "metadata": {},
   "outputs": [],
   "source": [
    "if not os.path.exists('data/atis/adversarial'):\n",
    "    os.mkdir('data/atis/adversarial')\n",
    "\n",
    "for base_language in languages:\n",
    "    other_languages = list(config['languages'])\n",
    "    other_languages.remove(base_language)\n",
    "\n",
    "    dataset = pd.DataFrame()\n",
    "\n",
    "    for language in other_languages:\n",
    "        dataset = pd.concat(\n",
    "            (\n",
    "                dataset,\n",
    "                RandomAdversarialAlignments(\n",
    "                    base_language=base_language,\n",
    "                    attack_language=language,\n",
    "                    subset='train',\n",
    "                    num_examples=1\n",
    "                ).generate_dataset('train')\n",
    "            )\n",
    "        )\n",
    "\n",
    "    dataset.to_csv(f'data/atis/adversarial/adversarial_{base_language}.csv')"
   ]
  },
  {
   "cell_type": "code",
   "execution_count": null,
   "id": "interpreted-affiliate",
   "metadata": {},
   "outputs": [],
   "source": []
  }
 ],
 "metadata": {
  "kernelspec": {
   "display_name": "diploma",
   "language": "python",
   "name": "diploma"
  },
  "language_info": {
   "codemirror_mode": {
    "name": "ipython",
    "version": 3
   },
   "file_extension": ".py",
   "mimetype": "text/x-python",
   "name": "python",
   "nbconvert_exporter": "python",
   "pygments_lexer": "ipython3",
   "version": "3.9.4"
  }
 },
 "nbformat": 4,
 "nbformat_minor": 5
}